{
 "cells": [
  {
   "cell_type": "code",
   "execution_count": 137,
   "metadata": {},
   "outputs": [],
   "source": [
    "import pandas as pd\n",
    "import matplotlib.pyplot as plt\n",
    "from sklearn.datasets import make_blobs\n",
    "from sklearn.cluster import KMeans\n",
    "import numpy\n",
    "from kneed import KneeLocator"
   ]
  },
  {
   "cell_type": "code",
   "execution_count": 138,
   "metadata": {},
   "outputs": [
    {
     "data": {
      "text/html": [
       "<div>\n",
       "<style scoped>\n",
       "    .dataframe tbody tr th:only-of-type {\n",
       "        vertical-align: middle;\n",
       "    }\n",
       "\n",
       "    .dataframe tbody tr th {\n",
       "        vertical-align: top;\n",
       "    }\n",
       "\n",
       "    .dataframe thead th {\n",
       "        text-align: right;\n",
       "    }\n",
       "</style>\n",
       "<table border=\"1\" class=\"dataframe\">\n",
       "  <thead>\n",
       "    <tr style=\"text-align: right;\">\n",
       "      <th></th>\n",
       "      <th>Year</th>\n",
       "      <th>Location</th>\n",
       "      <th>Download</th>\n",
       "      <th>Upload</th>\n",
       "      <th>UMR</th>\n",
       "      <th>persentase pengguna internet</th>\n",
       "      <th>Jumlah penduduk</th>\n",
       "    </tr>\n",
       "  </thead>\n",
       "  <tbody>\n",
       "    <tr>\n",
       "      <th>0</th>\n",
       "      <td>2020</td>\n",
       "      <td>Aceh</td>\n",
       "      <td>10.2</td>\n",
       "      <td>4.8</td>\n",
       "      <td>2 916 810,00</td>\n",
       "      <td>71.97</td>\n",
       "      <td>5.388.100</td>\n",
       "    </tr>\n",
       "    <tr>\n",
       "      <th>1</th>\n",
       "      <td>2020</td>\n",
       "      <td>Bali</td>\n",
       "      <td>11.6</td>\n",
       "      <td>6.9</td>\n",
       "      <td>2 297 969,00</td>\n",
       "      <td>85.67</td>\n",
       "      <td>4.414.400</td>\n",
       "    </tr>\n",
       "    <tr>\n",
       "      <th>2</th>\n",
       "      <td>2020</td>\n",
       "      <td>Bangka Belitung</td>\n",
       "      <td>10.6</td>\n",
       "      <td>4.5</td>\n",
       "      <td>2 976 706,00</td>\n",
       "      <td>78.35</td>\n",
       "      <td>1.469.800</td>\n",
       "    </tr>\n",
       "    <tr>\n",
       "      <th>3</th>\n",
       "      <td>2020</td>\n",
       "      <td>Banten</td>\n",
       "      <td>10.4</td>\n",
       "      <td>4.9</td>\n",
       "      <td>2 267 990,00</td>\n",
       "      <td>84.07</td>\n",
       "      <td>12.895.300</td>\n",
       "    </tr>\n",
       "    <tr>\n",
       "      <th>4</th>\n",
       "      <td>2020</td>\n",
       "      <td>Bengkulu</td>\n",
       "      <td>9.5</td>\n",
       "      <td>4.4</td>\n",
       "      <td>2 040 407,00</td>\n",
       "      <td>71.69</td>\n",
       "      <td>1.994.300</td>\n",
       "    </tr>\n",
       "    <tr>\n",
       "      <th>5</th>\n",
       "      <td>2020</td>\n",
       "      <td>Jawa Tengah</td>\n",
       "      <td>9.6</td>\n",
       "      <td>5.1</td>\n",
       "      <td>1 605 396,00</td>\n",
       "      <td>79.66</td>\n",
       "      <td>34.738.200</td>\n",
       "    </tr>\n",
       "    <tr>\n",
       "      <th>6</th>\n",
       "      <td>2020</td>\n",
       "      <td>Kalimantan Tengah</td>\n",
       "      <td>11.0</td>\n",
       "      <td>7.1</td>\n",
       "      <td>2 663 435,00</td>\n",
       "      <td>76.57</td>\n",
       "      <td>2.686.300</td>\n",
       "    </tr>\n",
       "    <tr>\n",
       "      <th>7</th>\n",
       "      <td>2020</td>\n",
       "      <td>Sulawesi Tengah</td>\n",
       "      <td>13.6</td>\n",
       "      <td>4.8</td>\n",
       "      <td>2 123 040,00</td>\n",
       "      <td>68.70</td>\n",
       "      <td>3.081.700</td>\n",
       "    </tr>\n",
       "    <tr>\n",
       "      <th>8</th>\n",
       "      <td>2020</td>\n",
       "      <td>Jawa Timur</td>\n",
       "      <td>11.3</td>\n",
       "      <td>5.5</td>\n",
       "      <td>1 630 059,00</td>\n",
       "      <td>77.21</td>\n",
       "      <td>39.955.900</td>\n",
       "    </tr>\n",
       "    <tr>\n",
       "      <th>9</th>\n",
       "      <td>2020</td>\n",
       "      <td>Kalimantan Timur</td>\n",
       "      <td>13.2</td>\n",
       "      <td>7.0</td>\n",
       "      <td>2 747 561,00</td>\n",
       "      <td>86.87</td>\n",
       "      <td>3.664.700</td>\n",
       "    </tr>\n",
       "  </tbody>\n",
       "</table>\n",
       "</div>"
      ],
      "text/plain": [
       "   Year           Location  Download  Upload           UMR  \\\n",
       "0  2020               Aceh      10.2     4.8  2 916 810,00   \n",
       "1  2020               Bali      11.6     6.9  2 297 969,00   \n",
       "2  2020    Bangka Belitung      10.6     4.5  2 976 706,00   \n",
       "3  2020             Banten      10.4     4.9  2 267 990,00   \n",
       "4  2020           Bengkulu       9.5     4.4  2 040 407,00   \n",
       "5  2020        Jawa Tengah       9.6     5.1  1 605 396,00   \n",
       "6  2020  Kalimantan Tengah      11.0     7.1  2 663 435,00   \n",
       "7  2020    Sulawesi Tengah      13.6     4.8  2 123 040,00   \n",
       "8  2020         Jawa Timur      11.3     5.5  1 630 059,00   \n",
       "9  2020   Kalimantan Timur      13.2     7.0  2 747 561,00   \n",
       "\n",
       "   persentase pengguna internet Jumlah penduduk  \n",
       "0                         71.97       5.388.100  \n",
       "1                         85.67       4.414.400  \n",
       "2                         78.35       1.469.800  \n",
       "3                         84.07      12.895.300  \n",
       "4                         71.69       1.994.300  \n",
       "5                         79.66      34.738.200  \n",
       "6                         76.57       2.686.300  \n",
       "7                         68.70       3.081.700  \n",
       "8                         77.21      39.955.900  \n",
       "9                         86.87       3.664.700  "
      ]
     },
     "execution_count": 138,
     "metadata": {},
     "output_type": "execute_result"
    }
   ],
   "source": [
    "df = pd.read_csv('internetSpeed_Indonesia - 2020.csv')\n",
    "df = df.dropna()\n",
    "df.head(10)"
   ]
  },
  {
   "cell_type": "code",
   "execution_count": 139,
   "metadata": {},
   "outputs": [
    {
     "data": {
      "text/html": [
       "<div>\n",
       "<style scoped>\n",
       "    .dataframe tbody tr th:only-of-type {\n",
       "        vertical-align: middle;\n",
       "    }\n",
       "\n",
       "    .dataframe tbody tr th {\n",
       "        vertical-align: top;\n",
       "    }\n",
       "\n",
       "    .dataframe thead th {\n",
       "        text-align: right;\n",
       "    }\n",
       "</style>\n",
       "<table border=\"1\" class=\"dataframe\">\n",
       "  <thead>\n",
       "    <tr style=\"text-align: right;\">\n",
       "      <th></th>\n",
       "      <th>Year</th>\n",
       "      <th>Location</th>\n",
       "      <th>Download</th>\n",
       "      <th>Upload</th>\n",
       "      <th>UMR</th>\n",
       "      <th>persentase pengguna internet</th>\n",
       "      <th>Jumlah penduduk</th>\n",
       "    </tr>\n",
       "  </thead>\n",
       "  <tbody>\n",
       "    <tr>\n",
       "      <th>0</th>\n",
       "      <td>2021</td>\n",
       "      <td>Aceh</td>\n",
       "      <td>20.59</td>\n",
       "      <td>5.31</td>\n",
       "      <td>3.160.000,00</td>\n",
       "      <td>75.54</td>\n",
       "      <td>5.334.000</td>\n",
       "    </tr>\n",
       "    <tr>\n",
       "      <th>1</th>\n",
       "      <td>2021</td>\n",
       "      <td>Bali</td>\n",
       "      <td>24.71</td>\n",
       "      <td>16.98</td>\n",
       "      <td>2.494.000,00</td>\n",
       "      <td>87.80</td>\n",
       "      <td>4.363.000</td>\n",
       "    </tr>\n",
       "    <tr>\n",
       "      <th>2</th>\n",
       "      <td>2021</td>\n",
       "      <td>Bangka Belitung</td>\n",
       "      <td>19.17</td>\n",
       "      <td>7.02</td>\n",
       "      <td>3.230.023,00</td>\n",
       "      <td>82.89</td>\n",
       "      <td>1.473.000</td>\n",
       "    </tr>\n",
       "    <tr>\n",
       "      <th>3</th>\n",
       "      <td>2021</td>\n",
       "      <td>Banten</td>\n",
       "      <td>21.30</td>\n",
       "      <td>8.08</td>\n",
       "      <td>4.230.792,65</td>\n",
       "      <td>87.45</td>\n",
       "      <td>12.061.000</td>\n",
       "    </tr>\n",
       "    <tr>\n",
       "      <th>4</th>\n",
       "      <td>2021</td>\n",
       "      <td>Bengkulu</td>\n",
       "      <td>17.74</td>\n",
       "      <td>4.77</td>\n",
       "      <td>2.215.000,00</td>\n",
       "      <td>78.03</td>\n",
       "      <td>2.033.000</td>\n",
       "    </tr>\n",
       "    <tr>\n",
       "      <th>5</th>\n",
       "      <td>2021</td>\n",
       "      <td>Jawa Tengah</td>\n",
       "      <td>17.55</td>\n",
       "      <td>6.45</td>\n",
       "      <td>1.813.011,00</td>\n",
       "      <td>82.88</td>\n",
       "      <td>36.743.000</td>\n",
       "    </tr>\n",
       "    <tr>\n",
       "      <th>6</th>\n",
       "      <td>2021</td>\n",
       "      <td>Kalimantan Tengah</td>\n",
       "      <td>20.31</td>\n",
       "      <td>6.64</td>\n",
       "      <td>2.903.144.00</td>\n",
       "      <td>80.27</td>\n",
       "      <td>2.702.000</td>\n",
       "    </tr>\n",
       "    <tr>\n",
       "      <th>7</th>\n",
       "      <td>2021</td>\n",
       "      <td>Sulawesi Tengah</td>\n",
       "      <td>16.76</td>\n",
       "      <td>4.64</td>\n",
       "      <td>2.303.711,00</td>\n",
       "      <td>76.51</td>\n",
       "      <td>3.022.000</td>\n",
       "    </tr>\n",
       "    <tr>\n",
       "      <th>8</th>\n",
       "      <td>2021</td>\n",
       "      <td>Jawa Timur</td>\n",
       "      <td>17.05</td>\n",
       "      <td>6.53</td>\n",
       "      <td>4.300.479,00</td>\n",
       "      <td>79.66</td>\n",
       "      <td>40.879.000</td>\n",
       "    </tr>\n",
       "    <tr>\n",
       "      <th>9</th>\n",
       "      <td>2021</td>\n",
       "      <td>Kalimantan Timur</td>\n",
       "      <td>20.14</td>\n",
       "      <td>6.43</td>\n",
       "      <td>2.981.378,00</td>\n",
       "      <td>89.67</td>\n",
       "      <td>3.808.000</td>\n",
       "    </tr>\n",
       "  </tbody>\n",
       "</table>\n",
       "</div>"
      ],
      "text/plain": [
       "   Year           Location  Download  Upload           UMR  \\\n",
       "0  2021               Aceh     20.59    5.31  3.160.000,00   \n",
       "1  2021               Bali     24.71   16.98  2.494.000,00   \n",
       "2  2021    Bangka Belitung     19.17    7.02  3.230.023,00   \n",
       "3  2021             Banten     21.30    8.08  4.230.792,65   \n",
       "4  2021           Bengkulu     17.74    4.77  2.215.000,00   \n",
       "5  2021        Jawa Tengah     17.55    6.45  1.813.011,00   \n",
       "6  2021  Kalimantan Tengah     20.31    6.64  2.903.144.00   \n",
       "7  2021    Sulawesi Tengah     16.76    4.64  2.303.711,00   \n",
       "8  2021         Jawa Timur     17.05    6.53  4.300.479,00   \n",
       "9  2021   Kalimantan Timur     20.14    6.43  2.981.378,00   \n",
       "\n",
       "   persentase pengguna internet Jumlah penduduk  \n",
       "0                         75.54       5.334.000  \n",
       "1                         87.80       4.363.000  \n",
       "2                         82.89       1.473.000  \n",
       "3                         87.45      12.061.000  \n",
       "4                         78.03       2.033.000  \n",
       "5                         82.88      36.743.000  \n",
       "6                         80.27       2.702.000  \n",
       "7                         76.51       3.022.000  \n",
       "8                         79.66      40.879.000  \n",
       "9                         89.67       3.808.000  "
      ]
     },
     "execution_count": 139,
     "metadata": {},
     "output_type": "execute_result"
    }
   ],
   "source": [
    "df2 = pd.read_csv('internetSpeed_Indonesia - 2021.csv')\n",
    "df2 = df2.dropna()\n",
    "df2.head(10)"
   ]
  },
  {
   "cell_type": "code",
   "execution_count": 140,
   "metadata": {},
   "outputs": [
    {
     "data": {
      "text/html": [
       "<div>\n",
       "<style scoped>\n",
       "    .dataframe tbody tr th:only-of-type {\n",
       "        vertical-align: middle;\n",
       "    }\n",
       "\n",
       "    .dataframe tbody tr th {\n",
       "        vertical-align: top;\n",
       "    }\n",
       "\n",
       "    .dataframe thead th {\n",
       "        text-align: right;\n",
       "    }\n",
       "</style>\n",
       "<table border=\"1\" class=\"dataframe\">\n",
       "  <thead>\n",
       "    <tr style=\"text-align: right;\">\n",
       "      <th></th>\n",
       "      <th>Year</th>\n",
       "      <th>Location</th>\n",
       "      <th>Download</th>\n",
       "      <th>Upload</th>\n",
       "      <th>UMR</th>\n",
       "      <th>persentase pengguna internet</th>\n",
       "      <th>Jumlah penduduk</th>\n",
       "      <th>Unnamed: 7</th>\n",
       "    </tr>\n",
       "  </thead>\n",
       "  <tbody>\n",
       "    <tr>\n",
       "      <th>0</th>\n",
       "      <td>2022</td>\n",
       "      <td>Aceh</td>\n",
       "      <td>22.56</td>\n",
       "      <td>9.42</td>\n",
       "      <td>3.116.460,00</td>\n",
       "      <td>80.83</td>\n",
       "      <td>5.380.000</td>\n",
       "      <td>75.54</td>\n",
       "    </tr>\n",
       "    <tr>\n",
       "      <th>1</th>\n",
       "      <td>2022</td>\n",
       "      <td>Bali</td>\n",
       "      <td>29.46</td>\n",
       "      <td>24.54</td>\n",
       "      <td>2.516.971,00</td>\n",
       "      <td>93.95</td>\n",
       "      <td>4.290.000</td>\n",
       "      <td>87.80</td>\n",
       "    </tr>\n",
       "    <tr>\n",
       "      <th>2</th>\n",
       "      <td>2022</td>\n",
       "      <td>Bangka Belitung</td>\n",
       "      <td>21.76</td>\n",
       "      <td>13.58</td>\n",
       "      <td>3.264.884,00</td>\n",
       "      <td>88.69</td>\n",
       "      <td>1.470.000</td>\n",
       "      <td>82.89</td>\n",
       "    </tr>\n",
       "    <tr>\n",
       "      <th>3</th>\n",
       "      <td>2022</td>\n",
       "      <td>Banten</td>\n",
       "      <td>26.34</td>\n",
       "      <td>11.65</td>\n",
       "      <td>2.501.203,11</td>\n",
       "      <td>93.57</td>\n",
       "      <td>12.150.000</td>\n",
       "      <td>87.45</td>\n",
       "    </tr>\n",
       "    <tr>\n",
       "      <th>4</th>\n",
       "      <td>2022</td>\n",
       "      <td>Bengkulu</td>\n",
       "      <td>19.25</td>\n",
       "      <td>9.08</td>\n",
       "      <td>2.238.094,31</td>\n",
       "      <td>83.49</td>\n",
       "      <td>2.050.000</td>\n",
       "      <td>78.03</td>\n",
       "    </tr>\n",
       "    <tr>\n",
       "      <th>5</th>\n",
       "      <td>2022</td>\n",
       "      <td>Jawa Tengah</td>\n",
       "      <td>17.98</td>\n",
       "      <td>9.50</td>\n",
       "      <td>1.812.935,00</td>\n",
       "      <td>88.68</td>\n",
       "      <td>37.490.000</td>\n",
       "      <td>82.88</td>\n",
       "    </tr>\n",
       "    <tr>\n",
       "      <th>6</th>\n",
       "      <td>2022</td>\n",
       "      <td>Kalimantan Tengah</td>\n",
       "      <td>22.64</td>\n",
       "      <td>10.15</td>\n",
       "      <td>2.922.516,09</td>\n",
       "      <td>85.89</td>\n",
       "      <td>2.670.000</td>\n",
       "      <td>80.27</td>\n",
       "    </tr>\n",
       "    <tr>\n",
       "      <th>7</th>\n",
       "      <td>2022</td>\n",
       "      <td>Sulawesi Tengah</td>\n",
       "      <td>19.32</td>\n",
       "      <td>9.58</td>\n",
       "      <td>2.390.739,00</td>\n",
       "      <td>81.87</td>\n",
       "      <td>3.070.000</td>\n",
       "      <td>76.51</td>\n",
       "    </tr>\n",
       "    <tr>\n",
       "      <th>8</th>\n",
       "      <td>2022</td>\n",
       "      <td>Jawa Timur</td>\n",
       "      <td>18.83</td>\n",
       "      <td>8.77</td>\n",
       "      <td>1.891.567,12</td>\n",
       "      <td>85.24</td>\n",
       "      <td>41.140.000</td>\n",
       "      <td>79.66</td>\n",
       "    </tr>\n",
       "    <tr>\n",
       "      <th>9</th>\n",
       "      <td>2022</td>\n",
       "      <td>Kalimantan Timur</td>\n",
       "      <td>22.18</td>\n",
       "      <td>10.23</td>\n",
       "      <td>3.014.497,22</td>\n",
       "      <td>95.95</td>\n",
       "      <td>3.890.000</td>\n",
       "      <td>89.67</td>\n",
       "    </tr>\n",
       "  </tbody>\n",
       "</table>\n",
       "</div>"
      ],
      "text/plain": [
       "   Year           Location  Download  Upload           UMR  \\\n",
       "0  2022               Aceh     22.56    9.42  3.116.460,00   \n",
       "1  2022               Bali     29.46   24.54  2.516.971,00   \n",
       "2  2022    Bangka Belitung     21.76   13.58  3.264.884,00   \n",
       "3  2022             Banten     26.34   11.65  2.501.203,11   \n",
       "4  2022           Bengkulu     19.25    9.08  2.238.094,31   \n",
       "5  2022        Jawa Tengah     17.98    9.50  1.812.935,00   \n",
       "6  2022  Kalimantan Tengah     22.64   10.15  2.922.516,09   \n",
       "7  2022    Sulawesi Tengah     19.32    9.58  2.390.739,00   \n",
       "8  2022         Jawa Timur     18.83    8.77  1.891.567,12   \n",
       "9  2022   Kalimantan Timur     22.18   10.23  3.014.497,22   \n",
       "\n",
       "   persentase pengguna internet Jumlah penduduk  Unnamed: 7  \n",
       "0                         80.83       5.380.000       75.54  \n",
       "1                         93.95       4.290.000       87.80  \n",
       "2                         88.69       1.470.000       82.89  \n",
       "3                         93.57      12.150.000       87.45  \n",
       "4                         83.49       2.050.000       78.03  \n",
       "5                         88.68      37.490.000       82.88  \n",
       "6                         85.89       2.670.000       80.27  \n",
       "7                         81.87       3.070.000       76.51  \n",
       "8                         85.24      41.140.000       79.66  \n",
       "9                         95.95       3.890.000       89.67  "
      ]
     },
     "execution_count": 140,
     "metadata": {},
     "output_type": "execute_result"
    }
   ],
   "source": [
    "df3 = pd.read_csv('internetSpeed_Indonesia - 2022.csv')\n",
    "df3 = df3.dropna()\n",
    "df3.head(10)"
   ]
  },
  {
   "cell_type": "code",
   "execution_count": 141,
   "metadata": {},
   "outputs": [
    {
     "name": "stdout",
     "output_type": "stream",
     "text": [
      "['4.8' '2 916 810,00']\n"
     ]
    }
   ],
   "source": [
    "x = df.iloc[:,[3,4]]\n",
    "x = x.values.tolist()\n",
    "x = numpy.array(x)\n",
    "print(x[0])"
   ]
  },
  {
   "cell_type": "code",
   "execution_count": 142,
   "metadata": {},
   "outputs": [
    {
     "name": "stdout",
     "output_type": "stream",
     "text": [
      "['5.31' '3.160.000,00']\n"
     ]
    }
   ],
   "source": [
    "x2 = df2.iloc[:,[3,4]]\n",
    "x2 = x2.values.tolist()\n",
    "x2 = numpy.array(x2)\n",
    "print(x2[0])"
   ]
  },
  {
   "cell_type": "code",
   "execution_count": 143,
   "metadata": {},
   "outputs": [
    {
     "name": "stdout",
     "output_type": "stream",
     "text": [
      "['9.42' '3.116.460,00']\n"
     ]
    }
   ],
   "source": [
    "x3 = df3.iloc[:,[3,4]]\n",
    "x3 = x3.values.tolist()\n",
    "x3 = numpy.array(x3)\n",
    "print(x3[0])"
   ]
  },
  {
   "cell_type": "code",
   "execution_count": 144,
   "metadata": {},
   "outputs": [
    {
     "name": "stdout",
     "output_type": "stream",
     "text": [
      "<class 'numpy.float64'>\n"
     ]
    }
   ],
   "source": [
    "dfc = df.iloc[:,[2,3,4]]\n",
    "dfc = dfc.values.tolist()\n",
    "\n",
    "dfc2 = df2.iloc[:,[2,3,4]]\n",
    "dfc2 = dfc2.values.tolist()\n",
    "\n",
    "dfc3 = df3.iloc[:,[2,3,4]]\n",
    "dfc3 = dfc3.values.tolist()\n",
    "\n",
    "x = x.tolist()\n",
    "x2 = x2.tolist()\n",
    "x3 = x3.tolist()\n",
    "\n",
    "# print(float(dfc[0][1]) + float(dfc[0][0]))\n",
    "for i in range (34):\n",
    "    x[i][0] = round(((float(dfc[i][1]) + float(dfc[i][0])))/2,2)\n",
    "    x2[i][0] = round(((float(dfc2[i][1]) + float(dfc2[i][0])))/2,2)\n",
    "    x3[i][0] = round(((float(dfc3[i][1]) + float(dfc3[i][0])))/2,2)\n",
    "\n",
    "    \n",
    "    x[i][1] = dfc[i][2][:-3].replace(\" \", \"\")\n",
    "    x2[i][1] = dfc2[i][2][:-3].replace(\" \", \"\")\n",
    "    x3[i][1] = dfc3[i][2][:-3].replace(\" \", \"\")\n",
    "\n",
    "    x[i][1] = x[i][1].replace(\".\", \"\")\n",
    "    x2[i][1] = x2[i][1].replace(\".\", \"\")\n",
    "    x3[i][1] = x3[i][1].replace(\".\", \"\")\n",
    "\n",
    "    x[32][1] = 2860382\n",
    "\n",
    "    x[i][1] = int(x[i][1])\n",
    "    x2[i][1] = int(x2[i][1])\n",
    "    x3[i][1] = int(x3[i][1])\n",
    "    \n",
    "    # x[i][1] = x[i][1].astype(numpy.float)\n",
    "    # x2[i][1] = int(dfc2[i][2])\n",
    "    # x3[i][1] = int(dfc3[i][2])\n",
    "\n",
    "# x = x.tolist()\n",
    "# x2 = x2.tolist()\n",
    "# x3 = x3.tolist()\n",
    "\n",
    "x = numpy.array(x)\n",
    "x2 = numpy.array(x2)\n",
    "x3 = numpy.array(x3)\n",
    "\n",
    "# x[32][1] = 2860382\n",
    "# print(x)\n",
    "print(type(x[32][0]))"
   ]
  },
  {
   "cell_type": "code",
   "execution_count": 145,
   "metadata": {},
   "outputs": [
    {
     "name": "stdout",
     "output_type": "stream",
     "text": [
      "[[1.295000e+01 3.160000e+06]\n",
      " [2.084000e+01 2.494000e+06]\n",
      " [1.310000e+01 3.230023e+06]\n",
      " [1.469000e+01 4.230792e+06]\n",
      " [1.125000e+01 2.215000e+06]\n",
      " [1.200000e+01 1.813011e+06]\n",
      " [1.347000e+01 2.903144e+06]\n",
      " [1.070000e+01 2.303711e+06]\n",
      " [1.179000e+01 4.300479e+06]\n",
      " [1.329000e+01 2.981378e+06]\n",
      " [1.262000e+01 1.950000e+06]\n",
      " [1.154000e+01 2.586900e+06]\n",
      " [1.875000e+01 4.416186e+06]\n",
      " [1.223000e+01 2.630162e+06]\n",
      " [1.152000e+01 2.400000e+06]\n",
      " [1.154000e+01 2.604961e+06]\n",
      " [1.308000e+01 3.000803e+06]\n",
      " [1.234000e+01 2.721530e+06]\n",
      " [1.251000e+01 3.310721e+06]\n",
      " [1.288000e+01 3.516700e+06]\n",
      " [1.181000e+01 2.888563e+06]\n",
      " [1.379000e+01 3.005383e+06]\n",
      " [1.177000e+01 2.552014e+06]\n",
      " [1.363000e+01 2.903144e+06]\n",
      " [1.396000e+01 3.043111e+06]\n",
      " [1.270000e+01 1.765608e+06]\n",
      " [1.430000e+01 1.810351e+06]\n",
      " [1.304000e+01 2.399698e+06]\n",
      " [1.198000e+01 2.183883e+06]\n",
      " [1.198000e+01 3.134600e+06]\n",
      " [1.156000e+01 2.571328e+06]\n",
      " [1.354000e+01 2.484041e+06]\n",
      " [1.294000e+01 3.165876e+06]\n",
      " [1.389000e+01 2.499422e+06]]\n"
     ]
    }
   ],
   "source": [
    "print(x2)"
   ]
  },
  {
   "cell_type": "code",
   "execution_count": 146,
   "metadata": {},
   "outputs": [
    {
     "name": "stdout",
     "output_type": "stream",
     "text": [
      "[[1.599000e+01 3.116460e+06]\n",
      " [2.700000e+01 2.516971e+06]\n",
      " [1.767000e+01 3.264884e+06]\n",
      " [1.900000e+01 2.501203e+06]\n",
      " [1.416000e+01 2.238094e+06]\n",
      " [1.374000e+01 1.812935e+06]\n",
      " [1.639000e+01 2.922516e+06]\n",
      " [1.445000e+01 2.390739e+06]\n",
      " [1.380000e+01 1.891567e+06]\n",
      " [1.620000e+01 3.014497e+06]\n",
      " [1.604000e+01 1.975000e+06]\n",
      " [1.405000e+01 2.800580e+06]\n",
      " [2.320000e+01 4.641854e+06]\n",
      " [1.479000e+01 2.698940e+06]\n",
      " [1.355000e+01 2.440486e+06]\n",
      " [1.478000e+01 2.619312e+06]\n",
      " [1.561000e+01 3.016738e+06]\n",
      " [1.804000e+01 2.862231e+06]\n",
      " [1.234000e+01 3.310723e+06]\n",
      " [1.598000e+01 3.561932e+06]\n",
      " [1.477000e+01 2.938564e+06]\n",
      " [1.516000e+01 3.050172e+06]\n",
      " [1.380000e+01 2.576016e+06]\n",
      " [1.706000e+01 2.906473e+06]\n",
      " [1.748000e+01 3.144446e+06]\n",
      " [1.463000e+01 1.840915e+06]\n",
      " [1.823000e+01 1.841487e+06]\n",
      " [1.646000e+01 2.434328e+06]\n",
      " [1.358000e+01 2.207212e+06]\n",
      " [1.491000e+01 3.200000e+06]\n",
      " [1.326000e+01 2.678863e+06]\n",
      " [1.536000e+01 2.512539e+06]\n",
      " [1.589000e+01 3.165876e+06]\n",
      " [1.286000e+01 2.522609e+06]]\n"
     ]
    }
   ],
   "source": [
    "print(x3)"
   ]
  },
  {
   "cell_type": "code",
   "execution_count": 147,
   "metadata": {},
   "outputs": [
    {
     "data": {
      "text/plain": [
       "4"
      ]
     },
     "execution_count": 147,
     "metadata": {},
     "output_type": "execute_result"
    }
   ],
   "source": [
    "distortions = []\n",
    "for i in range(1, 11):\n",
    "    km = KMeans(\n",
    "        n_clusters=i, init='random',\n",
    "        n_init=10, max_iter=300,\n",
    "        tol=1e-04, random_state=0\n",
    "    )\n",
    "    km.fit(x) \n",
    "    distortions.append(km.inertia_)\n",
    "\n",
    "kl = KneeLocator(range(1, 11), distortions, curve=\"convex\", direction=\"decreasing\")\n",
    "kl.elbow"
   ]
  },
  {
   "cell_type": "code",
   "execution_count": 152,
   "metadata": {},
   "outputs": [
    {
     "data": {
      "image/png": "[encoded data removed]",
      "text/plain": [
       "<Figure size 640x480 with 1 Axes>"
      ]
     },
     "metadata": {},
     "output_type": "display_data"
    }
   ],
   "source": [
    "plt.plot(range(1, 11), distortions, marker='o')\n",
    "plt.xlabel('Number of clusters')\n",
    "plt.ylabel('Distortion')\n",
    "plt.show()"
   ]
  },
  {
   "cell_type": "code",
   "execution_count": 148,
   "metadata": {},
   "outputs": [],
   "source": [
    "km = KMeans (n_clusters= kl.elbow,\n",
    "init = 'random', n_init= 10, \n",
    "max_iter= 300, tol= 0.01, random_state=0 \n",
    ")"
   ]
  },
  {
   "cell_type": "code",
   "execution_count": 149,
   "metadata": {},
   "outputs": [
    {
     "name": "stdout",
     "output_type": "stream",
     "text": [
      "[3 0 3 0 1 1 3 0 1 3 1 0 2 0 0 0 3 0 3 3 3 3 0 3 3 1 1 0 1 3 0 0 3 0]\n"
     ]
    }
   ],
   "source": [
    "y_km = km.fit_predict(x)\n",
    "print(y_km)"
   ]
  },
  {
   "cell_type": "code",
   "execution_count": 150,
   "metadata": {},
   "outputs": [
    {
     "name": "stdout",
     "output_type": "stream",
     "text": [
      "[3 0 3 1 0 2 3 0 1 3 2 0 1 0 0 0 3 0 3 3 3 3 0 3 3 2 2 0 0 3 0 0 3 0]\n"
     ]
    }
   ],
   "source": [
    "y_km2 = km.fit_predict(x2)\n",
    "print(y_km2)"
   ]
  },
  {
   "cell_type": "code",
   "execution_count": 151,
   "metadata": {},
   "outputs": [
    {
     "name": "stdout",
     "output_type": "stream",
     "text": [
      "[3 0 3 0 2 2 3 0 2 3 2 0 1 0 0 0 3 3 3 3 3 3 0 3 3 2 2 0 2 3 0 0 3 0]\n"
     ]
    }
   ],
   "source": [
    "y_km3 = km.fit_predict(x3)\n",
    "print(y_km3)"
   ]
  },
  {
   "cell_type": "code",
   "execution_count": 153,
   "metadata": {},
   "outputs": [
    {
     "data": {
      "text/plain": [
       "<matplotlib.collections.PathCollection at 0x29b5990a160>"
      ]
     },
     "execution_count": 153,
     "metadata": {},
     "output_type": "execute_result"
    },
    {
     "data": {
      "image/png": "[encoded data removed]",
      "text/plain": [
       "<Figure size 640x480 with 1 Axes>"
      ]
     },
     "metadata": {},
     "output_type": "display_data"
    }
   ],
   "source": [
    "plt.scatter(\n",
    "    x[y_km == 0, 0], x[y_km == 0, 1],\n",
    "    s=50, c='lightgreen',\n",
    "    marker='v', edgecolor='black',\n",
    "    label='c1'\n",
    ")\n",
    "\n",
    "plt.scatter(\n",
    "    x[y_km == 1, 0], x[y_km == 1, 1],\n",
    "    s=50, c='blue',\n",
    "    marker='o', edgecolor='black',\n",
    "    label='c2'\n",
    ")\n",
    "\n",
    "plt.scatter(\n",
    "    x[y_km == 2, 0], x[y_km == 2, 1],\n",
    "    s=50, c='blue',\n",
    "    marker='o', edgecolor='black',\n",
    "    label='c2'\n",
    ")\n",
    "\n",
    "plt.scatter(\n",
    "    x[y_km == 3, 0], x[y_km == 3, 1],\n",
    "    s=50, c='blue',\n",
    "    marker='o', edgecolor='black',\n",
    "    label='c2'\n",
    ")\n",
    "\n",
    "plt.scatter(\n",
    "    km.cluster_centers_[:, 0], km.cluster_centers_[:, 1],\n",
    "    s=350, marker='*',\n",
    "    c='red', edgecolor='black',\n",
    "    label='centroids'\n",
    ")"
   ]
  }
 ],
 "metadata": {
  "kernelspec": {
   "display_name": "Python 3",
   "language": "python",
   "name": "python3"
  },
  "language_info": {
   "codemirror_mode": {
    "name": "ipython",
    "version": 3
   },
   "file_extension": ".py",
   "mimetype": "text/x-python",
   "name": "python",
   "nbconvert_exporter": "python",
   "pygments_lexer": "ipython3",
   "version": "3.9.13 (tags/v3.9.13:6de2ca5, May 17 2022, 16:36:42) [MSC v.1929 64 bit (AMD64)]"
  },
  "orig_nbformat": 4,
  "vscode": {
   "interpreter": {
    "hash": "4b012d59fd9967520aa1876644e3a9774eee391dbb6584df68e553498820aaf9"
   }
  }
 },
 "nbformat": 4,
 "nbformat_minor": 2
}
